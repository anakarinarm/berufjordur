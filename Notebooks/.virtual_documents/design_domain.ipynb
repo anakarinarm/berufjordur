


import cmocean as cmo
import matplotlib.pyplot as plt
from matplotlib.patches import Rectangle
from netCDF4 import Dataset
import numpy as np
import seaborn as sns


# Load bathy data
filename = "../beru_2022.nc"
nc = Dataset(filename, "r")
#nc


# Get lat, lon and elevation
elev = nc["elevation"][:]
lat = nc["latitude"][:]
lon = nc["longitude"][:]


# Plot bathy data
fig, (ax,ax2) = plt.subplots(1,2, figsize=(14,4))
ax.set_facecolor("lightgray")
ax2.set_facecolor("lightgray")

## Plot all data
pc = ax.pcolormesh(lon,lat,elev, cmap=cmo.cm.deep)
plt.colorbar(pc, ax=ax, label= "Depth (m)")
# Draw region of interest
ax.add_patch(Rectangle((-14.6, 64.6), 0.5, 0.2, #((origin), w, h)
                       ec = "r", 
                       fill = False, 
                       lw = 2)) 

## Plot only region of interest
inix = 450
iniy = 500
dx = 600
dy = 270
endx = inix + dx
endy = iniy + dy
w_lon = lon[endx] - lon[inix]
h_lat = lat[endy] - lat[iniy]

pc2 = ax2.pcolormesh(lon[inix:endx],lat[iniy:endy],elev[iniy:endy, inix:endx], cmap=cmo.cm.deep)
plt.colorbar(pc2, ax=ax2, label= "Depth (m)")
# Draw region of interest in ax to check location
ax.add_patch(Rectangle((lon[inix], lat[iniy]), w_lon, h_lat, #((origin), w, h)
                       ec = "y", 
                       fill = False, 
                       lw = 2)) 
ax.set_xlabel("Lon")
ax.set_ylabel("Lat")
ax2.set_xlabel("Lon")
ax.set_aspect(1)
ax2.set_aspect(1)
print(f"The indices for the yellow box are: x1={inix}, x2={endx}, y1={iniy}, y2={endy}")
plt.show()

















def distance(lat1,lon1,lat2,lon2):
    '''Get distance using Haversine formula'''
    r = 6371 #radius of Earth (KM)
    p = np.pi/180  #Pi/180
    a = 0.5 - np.cos((lat2-lat1)*p)/2 + np.cos(lat1*p)*np.cos(lat2*p) * (1-np.cos((lon2-lon1)*p)) / 2
    d = 2 * r * np.arcsin(np.sqrt(a)) #2*R*asin In km
    return d
def cartesian(longitude, latitude):   
    lon = np.deg2rad(longitude)
    lat = np.deg2rad(latitude)
    R = 6378137.0 #+ elevation, but not for this. relative to centre of the earth
    X = R * np.cos(lon) * np.cos(lat)    
    Y = R * np.sin(lon) * np.cos(lat)
    return X, Y


LON, LAT = np.meshgrid(360+lon,lat)
X,Y = cartesian(LON,LAT)


# Plot bathy data
fig, ax = plt.subplots(1,1, figsize=(7,4))
ax.set_facecolor("lightgray")

## Plot all data
pc = ax.pcolormesh(X,Y,elev, cmap=cmo.cm.deep)
plt.colorbar(pc, ax=ax, label= "Depth (m)")
# Draw region of interest
ax.set_aspect(1)
plt.show()



